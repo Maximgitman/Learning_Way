{
  "nbformat": 4,
  "nbformat_minor": 0,
  "metadata": {
    "colab": {
      "name": "Learning_Way",
      "provenance": [],
      "collapsed_sections": []
    },
    "kernelspec": {
      "name": "python3",
      "display_name": "Python 3"
    },
    "language_info": {
      "name": "python"
    }
  },
  "cells": [
    {
      "cell_type": "code",
      "metadata": {
        "id": "lR273f3su5up",
        "colab": {
          "base_uri": "https://localhost:8080/"
        },
        "outputId": "47e6adeb-a864-4d39-faac-6fe61bb542ac"
      },
      "source": [
        "!pip install selenium\n",
        "!apt-get update # to update ubuntu to correctly run apt install\n",
        "!apt install chromium-chromedriver\n",
        "!cp /usr/lib/chromium-browser/chromedriver /usr/bin"
      ],
      "execution_count": 1,
      "outputs": [
        {
          "output_type": "stream",
          "text": [
            "Collecting selenium\n",
            "\u001b[?25l  Downloading https://files.pythonhosted.org/packages/80/d6/4294f0b4bce4de0abf13e17190289f9d0613b0a44e5dd6a7f5ca98459853/selenium-3.141.0-py2.py3-none-any.whl (904kB)\n",
            "\r\u001b[K     |▍                               | 10kB 15.6MB/s eta 0:00:01\r\u001b[K     |▊                               | 20kB 13.3MB/s eta 0:00:01\r\u001b[K     |█                               | 30kB 9.6MB/s eta 0:00:01\r\u001b[K     |█▌                              | 40kB 8.4MB/s eta 0:00:01\r\u001b[K     |█▉                              | 51kB 4.4MB/s eta 0:00:01\r\u001b[K     |██▏                             | 61kB 5.1MB/s eta 0:00:01\r\u001b[K     |██▌                             | 71kB 5.1MB/s eta 0:00:01\r\u001b[K     |███                             | 81kB 5.5MB/s eta 0:00:01\r\u001b[K     |███▎                            | 92kB 5.6MB/s eta 0:00:01\r\u001b[K     |███▋                            | 102kB 4.3MB/s eta 0:00:01\r\u001b[K     |████                            | 112kB 4.3MB/s eta 0:00:01\r\u001b[K     |████▍                           | 122kB 4.3MB/s eta 0:00:01\r\u001b[K     |████▊                           | 133kB 4.3MB/s eta 0:00:01\r\u001b[K     |█████                           | 143kB 4.3MB/s eta 0:00:01\r\u001b[K     |█████▍                          | 153kB 4.3MB/s eta 0:00:01\r\u001b[K     |█████▉                          | 163kB 4.3MB/s eta 0:00:01\r\u001b[K     |██████▏                         | 174kB 4.3MB/s eta 0:00:01\r\u001b[K     |██████▌                         | 184kB 4.3MB/s eta 0:00:01\r\u001b[K     |██████▉                         | 194kB 4.3MB/s eta 0:00:01\r\u001b[K     |███████▎                        | 204kB 4.3MB/s eta 0:00:01\r\u001b[K     |███████▋                        | 215kB 4.3MB/s eta 0:00:01\r\u001b[K     |████████                        | 225kB 4.3MB/s eta 0:00:01\r\u001b[K     |████████▎                       | 235kB 4.3MB/s eta 0:00:01\r\u001b[K     |████████▊                       | 245kB 4.3MB/s eta 0:00:01\r\u001b[K     |█████████                       | 256kB 4.3MB/s eta 0:00:01\r\u001b[K     |█████████▍                      | 266kB 4.3MB/s eta 0:00:01\r\u001b[K     |█████████▉                      | 276kB 4.3MB/s eta 0:00:01\r\u001b[K     |██████████▏                     | 286kB 4.3MB/s eta 0:00:01\r\u001b[K     |██████████▌                     | 296kB 4.3MB/s eta 0:00:01\r\u001b[K     |██████████▉                     | 307kB 4.3MB/s eta 0:00:01\r\u001b[K     |███████████▎                    | 317kB 4.3MB/s eta 0:00:01\r\u001b[K     |███████████▋                    | 327kB 4.3MB/s eta 0:00:01\r\u001b[K     |████████████                    | 337kB 4.3MB/s eta 0:00:01\r\u001b[K     |████████████▎                   | 348kB 4.3MB/s eta 0:00:01\r\u001b[K     |████████████▊                   | 358kB 4.3MB/s eta 0:00:01\r\u001b[K     |█████████████                   | 368kB 4.3MB/s eta 0:00:01\r\u001b[K     |█████████████▍                  | 378kB 4.3MB/s eta 0:00:01\r\u001b[K     |█████████████▊                  | 389kB 4.3MB/s eta 0:00:01\r\u001b[K     |██████████████▏                 | 399kB 4.3MB/s eta 0:00:01\r\u001b[K     |██████████████▌                 | 409kB 4.3MB/s eta 0:00:01\r\u001b[K     |██████████████▉                 | 419kB 4.3MB/s eta 0:00:01\r\u001b[K     |███████████████▏                | 430kB 4.3MB/s eta 0:00:01\r\u001b[K     |███████████████▋                | 440kB 4.3MB/s eta 0:00:01\r\u001b[K     |████████████████                | 450kB 4.3MB/s eta 0:00:01\r\u001b[K     |████████████████▎               | 460kB 4.3MB/s eta 0:00:01\r\u001b[K     |████████████████▋               | 471kB 4.3MB/s eta 0:00:01\r\u001b[K     |█████████████████               | 481kB 4.3MB/s eta 0:00:01\r\u001b[K     |█████████████████▍              | 491kB 4.3MB/s eta 0:00:01\r\u001b[K     |█████████████████▊              | 501kB 4.3MB/s eta 0:00:01\r\u001b[K     |██████████████████▏             | 512kB 4.3MB/s eta 0:00:01\r\u001b[K     |██████████████████▌             | 522kB 4.3MB/s eta 0:00:01\r\u001b[K     |██████████████████▉             | 532kB 4.3MB/s eta 0:00:01\r\u001b[K     |███████████████████▏            | 542kB 4.3MB/s eta 0:00:01\r\u001b[K     |███████████████████▋            | 552kB 4.3MB/s eta 0:00:01\r\u001b[K     |████████████████████            | 563kB 4.3MB/s eta 0:00:01\r\u001b[K     |████████████████████▎           | 573kB 4.3MB/s eta 0:00:01\r\u001b[K     |████████████████████▋           | 583kB 4.3MB/s eta 0:00:01\r\u001b[K     |█████████████████████           | 593kB 4.3MB/s eta 0:00:01\r\u001b[K     |█████████████████████▍          | 604kB 4.3MB/s eta 0:00:01\r\u001b[K     |█████████████████████▊          | 614kB 4.3MB/s eta 0:00:01\r\u001b[K     |██████████████████████          | 624kB 4.3MB/s eta 0:00:01\r\u001b[K     |██████████████████████▌         | 634kB 4.3MB/s eta 0:00:01\r\u001b[K     |██████████████████████▉         | 645kB 4.3MB/s eta 0:00:01\r\u001b[K     |███████████████████████▏        | 655kB 4.3MB/s eta 0:00:01\r\u001b[K     |███████████████████████▌        | 665kB 4.3MB/s eta 0:00:01\r\u001b[K     |████████████████████████        | 675kB 4.3MB/s eta 0:00:01\r\u001b[K     |████████████████████████▎       | 686kB 4.3MB/s eta 0:00:01\r\u001b[K     |████████████████████████▋       | 696kB 4.3MB/s eta 0:00:01\r\u001b[K     |█████████████████████████       | 706kB 4.3MB/s eta 0:00:01\r\u001b[K     |█████████████████████████▍      | 716kB 4.3MB/s eta 0:00:01\r\u001b[K     |█████████████████████████▊      | 727kB 4.3MB/s eta 0:00:01\r\u001b[K     |██████████████████████████      | 737kB 4.3MB/s eta 0:00:01\r\u001b[K     |██████████████████████████▍     | 747kB 4.3MB/s eta 0:00:01\r\u001b[K     |██████████████████████████▉     | 757kB 4.3MB/s eta 0:00:01\r\u001b[K     |███████████████████████████▏    | 768kB 4.3MB/s eta 0:00:01\r\u001b[K     |███████████████████████████▌    | 778kB 4.3MB/s eta 0:00:01\r\u001b[K     |████████████████████████████    | 788kB 4.3MB/s eta 0:00:01\r\u001b[K     |████████████████████████████▎   | 798kB 4.3MB/s eta 0:00:01\r\u001b[K     |████████████████████████████▋   | 808kB 4.3MB/s eta 0:00:01\r\u001b[K     |█████████████████████████████   | 819kB 4.3MB/s eta 0:00:01\r\u001b[K     |█████████████████████████████▍  | 829kB 4.3MB/s eta 0:00:01\r\u001b[K     |█████████████████████████████▊  | 839kB 4.3MB/s eta 0:00:01\r\u001b[K     |██████████████████████████████  | 849kB 4.3MB/s eta 0:00:01\r\u001b[K     |██████████████████████████████▍ | 860kB 4.3MB/s eta 0:00:01\r\u001b[K     |██████████████████████████████▉ | 870kB 4.3MB/s eta 0:00:01\r\u001b[K     |███████████████████████████████▏| 880kB 4.3MB/s eta 0:00:01\r\u001b[K     |███████████████████████████████▌| 890kB 4.3MB/s eta 0:00:01\r\u001b[K     |███████████████████████████████▉| 901kB 4.3MB/s eta 0:00:01\r\u001b[K     |████████████████████████████████| 911kB 4.3MB/s \n",
            "\u001b[?25hRequirement already satisfied: urllib3 in /usr/local/lib/python3.7/dist-packages (from selenium) (1.24.3)\n",
            "Installing collected packages: selenium\n",
            "Successfully installed selenium-3.141.0\n",
            "Get:1 https://cloud.r-project.org/bin/linux/ubuntu bionic-cran40/ InRelease [3,626 B]\n",
            "Ign:2 https://developer.download.nvidia.com/compute/cuda/repos/ubuntu1804/x86_64  InRelease\n",
            "Get:3 http://security.ubuntu.com/ubuntu bionic-security InRelease [88.7 kB]\n",
            "Get:4 https://cloud.r-project.org/bin/linux/ubuntu bionic-cran40/ Packages [61.8 kB]\n",
            "Ign:5 https://developer.download.nvidia.com/compute/machine-learning/repos/ubuntu1804/x86_64  InRelease\n",
            "Get:6 http://ppa.launchpad.net/c2d4u.team/c2d4u4.0+/ubuntu bionic InRelease [15.9 kB]\n",
            "Get:7 https://developer.download.nvidia.com/compute/cuda/repos/ubuntu1804/x86_64  Release [697 B]\n",
            "Hit:8 https://developer.download.nvidia.com/compute/machine-learning/repos/ubuntu1804/x86_64  Release\n",
            "Get:9 https://developer.download.nvidia.com/compute/cuda/repos/ubuntu1804/x86_64  Release.gpg [836 B]\n",
            "Hit:11 http://archive.ubuntu.com/ubuntu bionic InRelease\n",
            "Get:12 http://archive.ubuntu.com/ubuntu bionic-updates InRelease [88.7 kB]\n",
            "Ign:13 https://developer.download.nvidia.com/compute/cuda/repos/ubuntu1804/x86_64  Packages\n",
            "Get:13 https://developer.download.nvidia.com/compute/cuda/repos/ubuntu1804/x86_64  Packages [800 kB]\n",
            "Hit:14 http://ppa.launchpad.net/cran/libgit2/ubuntu bionic InRelease\n",
            "Get:15 http://ppa.launchpad.net/deadsnakes/ppa/ubuntu bionic InRelease [15.9 kB]\n",
            "Get:16 http://security.ubuntu.com/ubuntu bionic-security/restricted amd64 Packages [450 kB]\n",
            "Get:17 http://archive.ubuntu.com/ubuntu bionic-backports InRelease [74.6 kB]\n",
            "Get:18 http://archive.ubuntu.com/ubuntu bionic-updates/restricted amd64 Packages [481 kB]\n",
            "Get:19 http://ppa.launchpad.net/graphics-drivers/ppa/ubuntu bionic InRelease [21.3 kB]\n",
            "Get:20 http://security.ubuntu.com/ubuntu bionic-security/universe amd64 Packages [1,415 kB]\n",
            "Get:21 http://security.ubuntu.com/ubuntu bionic-security/main amd64 Packages [2,185 kB]\n",
            "Get:22 http://archive.ubuntu.com/ubuntu bionic-updates/main amd64 Packages [2,619 kB]\n",
            "Get:23 http://ppa.launchpad.net/c2d4u.team/c2d4u4.0+/ubuntu bionic/main Sources [1,772 kB]\n",
            "Get:24 http://archive.ubuntu.com/ubuntu bionic-updates/universe amd64 Packages [2,184 kB]\n",
            "Get:25 http://archive.ubuntu.com/ubuntu bionic-updates/multiverse amd64 Packages [33.5 kB]\n",
            "Get:26 http://ppa.launchpad.net/c2d4u.team/c2d4u4.0+/ubuntu bionic/main amd64 Packages [906 kB]\n",
            "Get:27 http://ppa.launchpad.net/deadsnakes/ppa/ubuntu bionic/main amd64 Packages [40.9 kB]\n",
            "Get:28 http://ppa.launchpad.net/graphics-drivers/ppa/ubuntu bionic/main amd64 Packages [41.6 kB]\n",
            "Fetched 13.3 MB in 8s (1,599 kB/s)\n",
            "Reading package lists... Done\n",
            "Reading package lists... Done\n",
            "Building dependency tree       \n",
            "Reading state information... Done\n",
            "The following additional packages will be installed:\n",
            "  chromium-browser chromium-browser-l10n chromium-codecs-ffmpeg-extra\n",
            "Suggested packages:\n",
            "  webaccounts-chromium-extension unity-chromium-extension\n",
            "The following NEW packages will be installed:\n",
            "  chromium-browser chromium-browser-l10n chromium-chromedriver\n",
            "  chromium-codecs-ffmpeg-extra\n",
            "0 upgraded, 4 newly installed, 0 to remove and 48 not upgraded.\n",
            "Need to get 86.0 MB of archives.\n",
            "After this operation, 298 MB of additional disk space will be used.\n",
            "Get:1 http://archive.ubuntu.com/ubuntu bionic-updates/universe amd64 chromium-codecs-ffmpeg-extra amd64 91.0.4472.77-0ubuntu0.18.04.1 [1,124 kB]\n",
            "Get:2 http://archive.ubuntu.com/ubuntu bionic-updates/universe amd64 chromium-browser amd64 91.0.4472.77-0ubuntu0.18.04.1 [76.1 MB]\n",
            "Get:3 http://archive.ubuntu.com/ubuntu bionic-updates/universe amd64 chromium-browser-l10n all 91.0.4472.77-0ubuntu0.18.04.1 [3,948 kB]\n",
            "Get:4 http://archive.ubuntu.com/ubuntu bionic-updates/universe amd64 chromium-chromedriver amd64 91.0.4472.77-0ubuntu0.18.04.1 [4,838 kB]\n",
            "Fetched 86.0 MB in 9s (9,145 kB/s)\n",
            "Selecting previously unselected package chromium-codecs-ffmpeg-extra.\n",
            "(Reading database ... 160772 files and directories currently installed.)\n",
            "Preparing to unpack .../chromium-codecs-ffmpeg-extra_91.0.4472.77-0ubuntu0.18.04.1_amd64.deb ...\n",
            "Unpacking chromium-codecs-ffmpeg-extra (91.0.4472.77-0ubuntu0.18.04.1) ...\n",
            "Selecting previously unselected package chromium-browser.\n",
            "Preparing to unpack .../chromium-browser_91.0.4472.77-0ubuntu0.18.04.1_amd64.deb ...\n",
            "Unpacking chromium-browser (91.0.4472.77-0ubuntu0.18.04.1) ...\n",
            "Selecting previously unselected package chromium-browser-l10n.\n",
            "Preparing to unpack .../chromium-browser-l10n_91.0.4472.77-0ubuntu0.18.04.1_all.deb ...\n",
            "Unpacking chromium-browser-l10n (91.0.4472.77-0ubuntu0.18.04.1) ...\n",
            "Selecting previously unselected package chromium-chromedriver.\n",
            "Preparing to unpack .../chromium-chromedriver_91.0.4472.77-0ubuntu0.18.04.1_amd64.deb ...\n",
            "Unpacking chromium-chromedriver (91.0.4472.77-0ubuntu0.18.04.1) ...\n",
            "Setting up chromium-codecs-ffmpeg-extra (91.0.4472.77-0ubuntu0.18.04.1) ...\n",
            "Setting up chromium-browser (91.0.4472.77-0ubuntu0.18.04.1) ...\n",
            "update-alternatives: using /usr/bin/chromium-browser to provide /usr/bin/x-www-browser (x-www-browser) in auto mode\n",
            "update-alternatives: using /usr/bin/chromium-browser to provide /usr/bin/gnome-www-browser (gnome-www-browser) in auto mode\n",
            "Setting up chromium-chromedriver (91.0.4472.77-0ubuntu0.18.04.1) ...\n",
            "Setting up chromium-browser-l10n (91.0.4472.77-0ubuntu0.18.04.1) ...\n",
            "Processing triggers for man-db (2.8.3-2ubuntu0.1) ...\n",
            "Processing triggers for hicolor-icon-theme (0.17-2) ...\n",
            "Processing triggers for mime-support (3.60ubuntu1) ...\n",
            "Processing triggers for libc-bin (2.27-3ubuntu1.2) ...\n",
            "/sbin/ldconfig.real: /usr/local/lib/python3.7/dist-packages/ideep4py/lib/libmkldnn.so.0 is not a symbolic link\n",
            "\n",
            "cp: '/usr/lib/chromium-browser/chromedriver' and '/usr/bin/chromedriver' are the same file\n"
          ],
          "name": "stdout"
        }
      ]
    },
    {
      "cell_type": "code",
      "metadata": {
        "id": "4bviEWBiJBpw",
        "colab": {
          "base_uri": "https://localhost:8080/"
        },
        "outputId": "6b3a8575-9ab1-4f9c-ee8a-37ba7622e551"
      },
      "source": [
        "import sys\n",
        "import time\n",
        "import pandas as pd\n",
        "import numpy as np\n",
        "import matplotlib.pyplot as plt\n",
        "\n",
        "sys.path.insert(0,'/usr/lib/chromium-browser/chromedriver')\n",
        "\n",
        "import requests\n",
        "from selenium import webdriver\n",
        "from selenium.webdriver.common.by import By\n",
        "\n",
        "from tensorflow.keras.preprocessing.text import Tokenizer\n",
        "from scipy.spatial.distance import cosine\n",
        "\n",
        "chrome_options = webdriver.ChromeOptions()\n",
        "chrome_options.add_argument('--headless')\n",
        "chrome_options.add_argument('--no-sandbox')\n",
        "chrome_options.add_argument('--disable-dev-shm-usage')\n",
        "driver = webdriver.Chrome('chromedriver',chrome_options=chrome_options)"
      ],
      "execution_count": 2,
      "outputs": [
        {
          "output_type": "stream",
          "text": [
            "/usr/local/lib/python3.7/dist-packages/ipykernel_launcher.py:20: DeprecationWarning: use options instead of chrome_options\n"
          ],
          "name": "stderr"
        }
      ]
    },
    {
      "cell_type": "markdown",
      "metadata": {
        "id": "p9lkbboqjxtl"
      },
      "source": [
        "# Подбор навыков под заданную специализацию"
      ]
    },
    {
      "cell_type": "markdown",
      "metadata": {
        "id": "Qs5-Ou6To0HC"
      },
      "source": [
        "Предлагаем пользователю ввести ФИО и выбрать специализацию.  \n",
        "По специализации парсим вакансии."
      ]
    },
    {
      "cell_type": "code",
      "metadata": {
        "colab": {
          "base_uri": "https://localhost:8080/",
          "height": 205
        },
        "id": "nvkVHU76tchH",
        "outputId": "8ad15412-857e-4bab-cfa6-00051fa5be4c"
      },
      "source": [
        "data = pd.read_json('https://storage.googleapis.com/terra_ai/Learning_Way/data.json')\n",
        "data.head()"
      ],
      "execution_count": 3,
      "outputs": [
        {
          "output_type": "execute_result",
          "data": {
            "text/html": [
              "<div>\n",
              "<style scoped>\n",
              "    .dataframe tbody tr th:only-of-type {\n",
              "        vertical-align: middle;\n",
              "    }\n",
              "\n",
              "    .dataframe tbody tr th {\n",
              "        vertical-align: top;\n",
              "    }\n",
              "\n",
              "    .dataframe thead th {\n",
              "        text-align: right;\n",
              "    }\n",
              "</style>\n",
              "<table border=\"1\" class=\"dataframe\">\n",
              "  <thead>\n",
              "    <tr style=\"text-align: right;\">\n",
              "      <th></th>\n",
              "      <th>id</th>\n",
              "      <th>name</th>\n",
              "      <th>salary</th>\n",
              "      <th>published_at</th>\n",
              "      <th>experience</th>\n",
              "      <th>key_skills</th>\n",
              "    </tr>\n",
              "  </thead>\n",
              "  <tbody>\n",
              "    <tr>\n",
              "      <th>0</th>\n",
              "      <td>44240210</td>\n",
              "      <td>Data Scientist</td>\n",
              "      <td>150000.0</td>\n",
              "      <td>2021-05-24 18:04:26</td>\n",
              "      <td>notSpecified</td>\n",
              "      <td>[АНАЛИЗ, PYTHON, C]</td>\n",
              "    </tr>\n",
              "    <tr>\n",
              "      <th>1</th>\n",
              "      <td>44872776</td>\n",
              "      <td>Junior Data Scientist</td>\n",
              "      <td>50000.0</td>\n",
              "      <td>2021-05-25 11:10:42</td>\n",
              "      <td>notSpecified</td>\n",
              "      <td>[PANDAS, PYTHON, SQL]</td>\n",
              "    </tr>\n",
              "    <tr>\n",
              "      <th>2</th>\n",
              "      <td>44350010</td>\n",
              "      <td>Data Scientist</td>\n",
              "      <td>100000.0</td>\n",
              "      <td>2021-05-25 06:43:26</td>\n",
              "      <td>notSpecified</td>\n",
              "      <td>[XGBOOST, CATBOOST, SCIKIT-LEARN, C]</td>\n",
              "    </tr>\n",
              "    <tr>\n",
              "      <th>3</th>\n",
              "      <td>44322933</td>\n",
              "      <td>Data Science Manager</td>\n",
              "      <td>288240.0</td>\n",
              "      <td>2021-05-24 11:36:45</td>\n",
              "      <td>notSpecified</td>\n",
              "      <td>[MLOPS, DESIGN, COLLECTION]</td>\n",
              "    </tr>\n",
              "    <tr>\n",
              "      <th>4</th>\n",
              "      <td>44322935</td>\n",
              "      <td>Data Science Manager</td>\n",
              "      <td>288240.0</td>\n",
              "      <td>2021-05-24 11:36:45</td>\n",
              "      <td>notSpecified</td>\n",
              "      <td>[MLOPS, DESIGN, COLLECTION]</td>\n",
              "    </tr>\n",
              "  </tbody>\n",
              "</table>\n",
              "</div>"
            ],
            "text/plain": [
              "         id  ...                            key_skills\n",
              "0  44240210  ...                   [АНАЛИЗ, PYTHON, C]\n",
              "1  44872776  ...                 [PANDAS, PYTHON, SQL]\n",
              "2  44350010  ...  [XGBOOST, CATBOOST, SCIKIT-LEARN, C]\n",
              "3  44322933  ...           [MLOPS, DESIGN, COLLECTION]\n",
              "4  44322935  ...           [MLOPS, DESIGN, COLLECTION]\n",
              "\n",
              "[5 rows x 6 columns]"
            ]
          },
          "metadata": {
            "tags": []
          },
          "execution_count": 3
        }
      ]
    },
    {
      "cell_type": "markdown",
      "metadata": {
        "id": "FQGpMDfTq1XY"
      },
      "source": [
        "Получаем самые востребованные навыки в данной сфере."
      ]
    },
    {
      "cell_type": "code",
      "metadata": {
        "id": "TxXldEWupHVG"
      },
      "source": [
        "def get_top_skills(vacancy_data):\n",
        "    skills = vacancy_data['key_skills'].copy()\n",
        "\n",
        "    tokenizer = Tokenizer(num_words=400)\n",
        "    tokenizer.fit_on_texts(skills)\n",
        "\n",
        "    top_skills = list(tokenizer.index_word.values())[:5]\n",
        "\n",
        "    return top_skills"
      ],
      "execution_count": 20,
      "outputs": []
    },
    {
      "cell_type": "code",
      "metadata": {
        "colab": {
          "base_uri": "https://localhost:8080/"
        },
        "id": "R_wEJGBVpSOw",
        "outputId": "70c42ccd-bef6-4e04-95e9-0fecf8a46ecf"
      },
      "source": [
        "top_skills = get_top_skills(data)\n",
        "top_skills"
      ],
      "execution_count": 21,
      "outputs": [
        {
          "output_type": "execute_result",
          "data": {
            "text/plain": [
              "['python', 'sql', 'data mining', 'английский язык', 'c']"
            ]
          },
          "metadata": {
            "tags": []
          },
          "execution_count": 21
        }
      ]
    },
    {
      "cell_type": "markdown",
      "metadata": {
        "id": "Xeat--NwsbXF"
      },
      "source": [
        "Получаем от пользователя информацию о его уровне по этим навыкам (в том числе предлагаем пройти тестирование)"
      ]
    },
    {
      "cell_type": "code",
      "metadata": {
        "id": "myhiIzt3sv1j"
      },
      "source": [
        "def check_skills(skills):\n",
        "    skills_level = {}\n",
        "    for skill in skills:\n",
        "        level = int(input(f'Ваш уровень по навыку {skill} от 0 до 3: '))\n",
        "        skills_level[skill] = level\n",
        "\n",
        "    return skills_level"
      ],
      "execution_count": 24,
      "outputs": []
    },
    {
      "cell_type": "markdown",
      "metadata": {
        "id": "ELoW8HFD-iIL"
      },
      "source": [
        "Введите уровень знаний по каждому из навыков от 0 - 3 \n"
      ]
    },
    {
      "cell_type": "code",
      "metadata": {
        "colab": {
          "base_uri": "https://localhost:8080/"
        },
        "id": "JH9V3FZIsag_",
        "outputId": "7de157ec-bc2a-4c5f-fb0b-aa33d214b0ef"
      },
      "source": [
        "user_skills_level = check_skills(top_skills)\n",
        "user_skills_level"
      ],
      "execution_count": 25,
      "outputs": [
        {
          "output_type": "stream",
          "text": [
            "Ваш уровень по навыку python от 0 до 3: 0\n",
            "Ваш уровень по навыку sql от 0 до 3: 0\n",
            "Ваш уровень по навыку data mining от 0 до 3: 0\n",
            "Ваш уровень по навыку английский язык от 0 до 3: 0\n",
            "Ваш уровень по навыку c от 0 до 3: 0\n"
          ],
          "name": "stdout"
        },
        {
          "output_type": "execute_result",
          "data": {
            "text/plain": [
              "{'c': 0, 'data mining': 0, 'python': 0, 'sql': 0, 'английский язык': 0}"
            ]
          },
          "metadata": {
            "tags": []
          },
          "execution_count": 25
        }
      ]
    },
    {
      "cell_type": "markdown",
      "metadata": {
        "id": "j13WZdsiuWAo"
      },
      "source": [
        "Находим подходящие курсы по навыку и текущему уровню пользователя"
      ]
    },
    {
      "cell_type": "markdown",
      "metadata": {
        "id": "895Nx60Xvyt4"
      },
      "source": [
        "## Парсинг Нетологии"
      ]
    },
    {
      "cell_type": "code",
      "metadata": {
        "id": "76s6Xcj9FRY_"
      },
      "source": [
        "def find_netology_courses(query, level=1):\n",
        "    level = {0: 'neo', 1: 'neo', 2: 'pro', 3: 'pro'}[level]\n",
        "\n",
        "    url = \"https://netology.ru/backend/api/search/programs\"\n",
        "    response = requests.get(url, params=[('term', query)]).json()['programs']\n",
        "    courses = list(filter(lambda x: x['educational_level'] is not None and x['educational_level']['slug'] == level, response))\n",
        "    return pd.DataFrame(courses)"
      ],
      "execution_count": 26,
      "outputs": []
    },
    {
      "cell_type": "code",
      "metadata": {
        "id": "riBQi_SOF7Xd"
      },
      "source": [
        "all_courses = {}\n",
        "for skill, level in user_skills_level.items():\n",
        "    courses = find_netology_courses(skill, level=level)\n",
        "    all_courses[skill] = courses"
      ],
      "execution_count": 27,
      "outputs": []
    },
    {
      "cell_type": "code",
      "metadata": {
        "colab": {
          "base_uri": "https://localhost:8080/",
          "height": 287
        },
        "id": "GHKXdb16yaGZ",
        "outputId": "06ef8702-842a-4236-9944-5eb89adcbc73"
      },
      "source": [
        "all_courses['sql']"
      ],
      "execution_count": 28,
      "outputs": [
        {
          "output_type": "execute_result",
          "data": {
            "text/html": [
              "<div>\n",
              "<style scoped>\n",
              "    .dataframe tbody tr th:only-of-type {\n",
              "        vertical-align: middle;\n",
              "    }\n",
              "\n",
              "    .dataframe tbody tr th {\n",
              "        vertical-align: top;\n",
              "    }\n",
              "\n",
              "    .dataframe thead th {\n",
              "        text-align: right;\n",
              "    }\n",
              "</style>\n",
              "<table border=\"1\" class=\"dataframe\">\n",
              "  <thead>\n",
              "    <tr style=\"text-align: right;\">\n",
              "      <th></th>\n",
              "      <th>id</th>\n",
              "      <th>type</th>\n",
              "      <th>program_type</th>\n",
              "      <th>label</th>\n",
              "      <th>name</th>\n",
              "      <th>url</th>\n",
              "      <th>duration</th>\n",
              "      <th>projects_amount</th>\n",
              "      <th>experts_amount</th>\n",
              "      <th>starts_at</th>\n",
              "      <th>date</th>\n",
              "      <th>program_image</th>\n",
              "      <th>color</th>\n",
              "      <th>slider_description</th>\n",
              "      <th>url_to_replace</th>\n",
              "      <th>landing_url</th>\n",
              "      <th>tags</th>\n",
              "      <th>navigational_tag_ids</th>\n",
              "      <th>program_family_id</th>\n",
              "      <th>program_type_id</th>\n",
              "      <th>program_type_alias</th>\n",
              "      <th>is_async</th>\n",
              "      <th>initial_price</th>\n",
              "      <th>current_price</th>\n",
              "      <th>program_family_image</th>\n",
              "      <th>educational_level</th>\n",
              "      <th>starting_soon</th>\n",
              "      <th>main_direction</th>\n",
              "      <th>show_direction</th>\n",
              "      <th>directions</th>\n",
              "      <th>partner_logo</th>\n",
              "      <th>price_type</th>\n",
              "      <th>description</th>\n",
              "    </tr>\n",
              "  </thead>\n",
              "  <tbody>\n",
              "    <tr>\n",
              "      <th>0</th>\n",
              "      <td>19960</td>\n",
              "      <td>online</td>\n",
              "      <td>course</td>\n",
              "      <td>Осталось 3 дня</td>\n",
              "      <td>SQL и получение данных</td>\n",
              "      <td>//netology.ru/programs/sql-lessons</td>\n",
              "      <td>6 недель</td>\n",
              "      <td>21 занятие</td>\n",
              "      <td>5 экспертов</td>\n",
              "      <td>17 июня</td>\n",
              "      <td>2021-06-17</td>\n",
              "      <td>//netology.ru/program/sql-lessons.png</td>\n",
              "      <td>#7EC9E4</td>\n",
              "      <td></td>\n",
              "      <td></td>\n",
              "      <td></td>\n",
              "      <td>[]</td>\n",
              "      <td>[]</td>\n",
              "      <td>643</td>\n",
              "      <td>2</td>\n",
              "      <td>course</td>\n",
              "      <td>False</td>\n",
              "      <td>28900</td>\n",
              "      <td>20230</td>\n",
              "      <td>{'url': 'https://u.netology.ngcdn.ru/backend/u...</td>\n",
              "      <td>{'id': 1, 'name': 'Нео', 'slug': 'neo'}</td>\n",
              "      <td>True</td>\n",
              "      <td>{'slug': 'data-science', 'name': 'Аналитика'}</td>\n",
              "      <td>{'slug': 'data-science', 'name': 'Аналитика'}</td>\n",
              "      <td>[{'slug': 'data-science', 'name': 'Аналитика'}...</td>\n",
              "      <td></td>\n",
              "      <td>paid</td>\n",
              "      <td>&lt;p&gt;SQL &amp;mdash; главный инструмент аналитика. Н...</td>\n",
              "    </tr>\n",
              "    <tr>\n",
              "      <th>1</th>\n",
              "      <td>21391</td>\n",
              "      <td>online</td>\n",
              "      <td>lesson</td>\n",
              "      <td>Осталось 24 дня</td>\n",
              "      <td>SQL для аналитиков, маркетологов и product-мен...</td>\n",
              "      <td>//netology.ru/free-lessons/zachem-analitikam-sql</td>\n",
              "      <td>0 дней</td>\n",
              "      <td>1 занятие</td>\n",
              "      <td>1 эксперт</td>\n",
              "      <td>8 июля</td>\n",
              "      <td>2021-07-08</td>\n",
              "      <td></td>\n",
              "      <td>#50b9e1</td>\n",
              "      <td></td>\n",
              "      <td></td>\n",
              "      <td>None</td>\n",
              "      <td>[]</td>\n",
              "      <td>[]</td>\n",
              "      <td>834</td>\n",
              "      <td>1</td>\n",
              "      <td>lesson</td>\n",
              "      <td>False</td>\n",
              "      <td>0</td>\n",
              "      <td>0</td>\n",
              "      <td>{'url': None}</td>\n",
              "      <td>{'id': 1, 'name': 'Нео', 'slug': 'neo'}</td>\n",
              "      <td>False</td>\n",
              "      <td>{'slug': 'data-science', 'name': 'Аналитика'}</td>\n",
              "      <td>NaN</td>\n",
              "      <td>[{'slug': 'data-science', 'name': 'Аналитика'}]</td>\n",
              "      <td></td>\n",
              "      <td>free</td>\n",
              "      <td>Расскажем, чем SQL полезен аналитику, маркетол...</td>\n",
              "    </tr>\n",
              "  </tbody>\n",
              "</table>\n",
              "</div>"
            ],
            "text/plain": [
              "      id    type  ... price_type                                        description\n",
              "0  19960  online  ...       paid  <p>SQL &mdash; главный инструмент аналитика. Н...\n",
              "1  21391  online  ...       free  Расскажем, чем SQL полезен аналитику, маркетол...\n",
              "\n",
              "[2 rows x 33 columns]"
            ]
          },
          "metadata": {
            "tags": []
          },
          "execution_count": 28
        }
      ]
    },
    {
      "cell_type": "markdown",
      "metadata": {
        "id": "8pcQQFTHv2u9"
      },
      "source": [
        "## Парсинг Курсеры"
      ]
    },
    {
      "cell_type": "code",
      "metadata": {
        "id": "3Uo-GUDEzCj9"
      },
      "source": [
        "# здесь продублировал уровень Advanced, поскольку у нас 4 уровня\n",
        "\n",
        "def find_coursera_courses(driver, query, page=1, level=1):\n",
        "    \"\"\"\n",
        "    level - 1, 2, 3 (Beginner, Intermediate, Advanced)\n",
        "    \"\"\"\n",
        "\n",
        "    level = {0: 'Beginner', 1: 'Intermediate', 2: 'Advanced', 3: 'Advanced'}[level]\n",
        "\n",
        "    if page == 1:\n",
        "        driver.get(f'https://ru.coursera.org/search?query={query}&entityTypeDescription=Courses&index=prod_all_products_term_optimization&productDifficultyLevel={level}&allLanguages=Russian')\n",
        "    else:\n",
        "        driver.get(f'https://ru.coursera.org/search?query={query}&entityTypeDescription=Courses&page={page}&index=prod_all_products_term_optimization&productDifficultyLevel={level}&allLanguages=Russian')\n",
        "    time.sleep(2)\n",
        "    driver.save_screenshot('img.png')\n",
        "    elements = driver.find_elements(By.CLASS_NAME, 'ais-InfiniteHits-item')\n",
        "    print(f'Found {len(elements)} courses')\n",
        "    courses = []\n",
        "    for i, element in enumerate(elements):\n",
        "        element.screenshot(f'img{i}.png')\n",
        "        # print(i)\n",
        "        try:\n",
        "            link = element.find_element(By.TAG_NAME, 'a').get_attribute('href')\n",
        "            title = element.find_element(By.CLASS_NAME, 'card-title').text\n",
        "            difficulty = element.find_element(By.CLASS_NAME, 'difficulty').text\n",
        "            author = element.find_element(By.CLASS_NAME, 'partner-name').text\n",
        "            rate = element.find_element(By.CLASS_NAME, 'ratings-text').text\n",
        "\n",
        "            courses.append({\n",
        "                'title': title,\n",
        "                'difficulty': difficulty,\n",
        "                'rate': rate,\n",
        "                'author': author,\n",
        "                'link': link,\n",
        "            })\n",
        "        except Exception as e:\n",
        "            # print(e)\n",
        "            pass\n",
        "    data = pd.DataFrame(courses)\n",
        "    return data"
      ],
      "execution_count": 29,
      "outputs": []
    },
    {
      "cell_type": "code",
      "metadata": {
        "colab": {
          "base_uri": "https://localhost:8080/"
        },
        "id": "GtCpEfN01snC",
        "outputId": "05043770-8e57-4f81-ecbf-830291e21599"
      },
      "source": [
        "all_courses = {}\n",
        "for skill, level in user_skills_level.items():\n",
        "    courses = find_coursera_courses(driver, skill, page=1, level=level)\n",
        "    all_courses[skill] = courses"
      ],
      "execution_count": 30,
      "outputs": [
        {
          "output_type": "stream",
          "text": [
            "Found 10 courses\n",
            "Found 10 courses\n",
            "Found 10 courses\n",
            "Found 8 courses\n",
            "Found 10 courses\n"
          ],
          "name": "stdout"
        }
      ]
    },
    {
      "cell_type": "code",
      "metadata": {
        "colab": {
          "base_uri": "https://localhost:8080/",
          "height": 331
        },
        "id": "ZWSR-OWU2hvd",
        "outputId": "4d27d1b3-c0f8-4b33-d0f2-254f45720961"
      },
      "source": [
        "all_courses['python']"
      ],
      "execution_count": 31,
      "outputs": [
        {
          "output_type": "execute_result",
          "data": {
            "text/html": [
              "<div>\n",
              "<style scoped>\n",
              "    .dataframe tbody tr th:only-of-type {\n",
              "        vertical-align: middle;\n",
              "    }\n",
              "\n",
              "    .dataframe tbody tr th {\n",
              "        vertical-align: top;\n",
              "    }\n",
              "\n",
              "    .dataframe thead th {\n",
              "        text-align: right;\n",
              "    }\n",
              "</style>\n",
              "<table border=\"1\" class=\"dataframe\">\n",
              "  <thead>\n",
              "    <tr style=\"text-align: right;\">\n",
              "      <th></th>\n",
              "      <th>title</th>\n",
              "      <th>difficulty</th>\n",
              "      <th>rate</th>\n",
              "      <th>author</th>\n",
              "      <th>link</th>\n",
              "    </tr>\n",
              "  </thead>\n",
              "  <tbody>\n",
              "    <tr>\n",
              "      <th>0</th>\n",
              "      <td>Python for Everybody</td>\n",
              "      <td>Beginner</td>\n",
              "      <td>4.8</td>\n",
              "      <td>University of Michigan</td>\n",
              "      <td>https://ru.coursera.org/specializations/python</td>\n",
              "    </tr>\n",
              "    <tr>\n",
              "      <th>1</th>\n",
              "      <td>Google IT Automation with Python</td>\n",
              "      <td>Beginner</td>\n",
              "      <td>4.7</td>\n",
              "      <td>Google</td>\n",
              "      <td>https://ru.coursera.org/professional-certifica...</td>\n",
              "    </tr>\n",
              "    <tr>\n",
              "      <th>2</th>\n",
              "      <td>Python 3 Programming</td>\n",
              "      <td>Beginner</td>\n",
              "      <td>4.7</td>\n",
              "      <td>University of Michigan</td>\n",
              "      <td>https://ru.coursera.org/specializations/python...</td>\n",
              "    </tr>\n",
              "    <tr>\n",
              "      <th>3</th>\n",
              "      <td>Applied Data Science with Python</td>\n",
              "      <td>Intermediate</td>\n",
              "      <td>4.5</td>\n",
              "      <td>University of Michigan</td>\n",
              "      <td>https://ru.coursera.org/specializations/data-s...</td>\n",
              "    </tr>\n",
              "    <tr>\n",
              "      <th>4</th>\n",
              "      <td>Crash Course on Python</td>\n",
              "      <td>Beginner</td>\n",
              "      <td>4.8</td>\n",
              "      <td>Google</td>\n",
              "      <td>https://ru.coursera.org/learn/python-crash-course</td>\n",
              "    </tr>\n",
              "    <tr>\n",
              "      <th>5</th>\n",
              "      <td>IBM Data Science</td>\n",
              "      <td>Beginner</td>\n",
              "      <td>4.6</td>\n",
              "      <td>IBM</td>\n",
              "      <td>https://ru.coursera.org/professional-certifica...</td>\n",
              "    </tr>\n",
              "    <tr>\n",
              "      <th>6</th>\n",
              "      <td>Programming for Everybody (Getting Started wit...</td>\n",
              "      <td>Mixed</td>\n",
              "      <td>4.8</td>\n",
              "      <td>University of Michigan</td>\n",
              "      <td>https://ru.coursera.org/learn/python</td>\n",
              "    </tr>\n",
              "    <tr>\n",
              "      <th>7</th>\n",
              "      <td>Data Science Fundamentals with Python and SQL</td>\n",
              "      <td>Beginner</td>\n",
              "      <td>4.6</td>\n",
              "      <td>IBM</td>\n",
              "      <td>https://ru.coursera.org/specializations/data-s...</td>\n",
              "    </tr>\n",
              "    <tr>\n",
              "      <th>8</th>\n",
              "      <td>IBM Data Analyst</td>\n",
              "      <td>Beginner</td>\n",
              "      <td>4.6</td>\n",
              "      <td>IBM</td>\n",
              "      <td>https://ru.coursera.org/professional-certifica...</td>\n",
              "    </tr>\n",
              "  </tbody>\n",
              "</table>\n",
              "</div>"
            ],
            "text/plain": [
              "                                               title  ...                                               link\n",
              "0                               Python for Everybody  ...     https://ru.coursera.org/specializations/python\n",
              "1                   Google IT Automation with Python  ...  https://ru.coursera.org/professional-certifica...\n",
              "2                               Python 3 Programming  ...  https://ru.coursera.org/specializations/python...\n",
              "3                   Applied Data Science with Python  ...  https://ru.coursera.org/specializations/data-s...\n",
              "4                             Crash Course on Python  ...  https://ru.coursera.org/learn/python-crash-course\n",
              "5                                   IBM Data Science  ...  https://ru.coursera.org/professional-certifica...\n",
              "6  Programming for Everybody (Getting Started wit...  ...               https://ru.coursera.org/learn/python\n",
              "7      Data Science Fundamentals with Python and SQL  ...  https://ru.coursera.org/specializations/data-s...\n",
              "8                                   IBM Data Analyst  ...  https://ru.coursera.org/professional-certifica...\n",
              "\n",
              "[9 rows x 5 columns]"
            ]
          },
          "metadata": {
            "tags": []
          },
          "execution_count": 31
        }
      ]
    },
    {
      "cell_type": "markdown",
      "metadata": {
        "id": "zsmVIvZyjprw"
      },
      "source": [
        "# Подбор вакансии по навыкам пользователя"
      ]
    },
    {
      "cell_type": "markdown",
      "metadata": {
        "id": "1kIfSsxM3Atg"
      },
      "source": [
        "Также предлагаем пользователю ввести ФИО и выбрать специализацию. И сразу получаем от него навыки и их оценки."
      ]
    },
    {
      "cell_type": "code",
      "metadata": {
        "id": "_Rf7-DZfNMlv"
      },
      "source": [
        "user_data = {'name': 'Иванов Иван Иванович',\n",
        "             'specialization': 'Data Science',\n",
        "             'skills': {'PYTHON': 2,\n",
        "                        'CATBOOST': 1,\n",
        "                        'PANDAS': 2,\n",
        "                        'TENSORFLOW': 1}\n",
        "             }"
      ],
      "execution_count": 32,
      "outputs": []
    },
    {
      "cell_type": "markdown",
      "metadata": {
        "id": "-DVHTQ_W3ZQo"
      },
      "source": [
        "Парсим вакансии и считаем косинусное расстояние между навыками пользователя и каждой вакансией.  \n",
        "Возвращаем отранжированный список."
      ]
    },
    {
      "cell_type": "code",
      "metadata": {
        "id": "AdMAch62dD3g"
      },
      "source": [
        "def calculate_distance(skills, user_skills):\n",
        "    cos_dist = []\n",
        "    for s in skills:\n",
        "        cos_dist.append(cosine(user_skills, s))\n",
        "    cos_dist = np.array(cos_dist)\n",
        "    return cos_dist"
      ],
      "execution_count": 33,
      "outputs": []
    },
    {
      "cell_type": "code",
      "metadata": {
        "id": "XRTbbVoEIRV0"
      },
      "source": [
        "def get_actual_vacancy(vacancy_data, user_data):\n",
        "    skills = vacancy_data['key_skills'].copy()\n",
        "\n",
        "    # токенизация навыков\n",
        "    tokenizer = Tokenizer(num_words=400)\n",
        "    tokenizer.fit_on_texts(skills)\n",
        "\n",
        "    bow_skills = tokenizer.texts_to_matrix(skills)\n",
        "    user_skills = list(user_data['skills'].keys())\n",
        "    bow_user_skills = tokenizer.texts_to_matrix([user_skills])\n",
        "\n",
        "    # расчет косинусного расстояния навыков пользователя до навыков вакансий\n",
        "    cos_dist = calculate_distance(bow_skills, bow_user_skills)\n",
        "\n",
        "    # выбор актуальных вакансий\n",
        "    actual_vacancy = vacancy_data.iloc[np.argsort(cos_dist)[:5]]\n",
        "\n",
        "    return actual_vacancy"
      ],
      "execution_count": 34,
      "outputs": []
    },
    {
      "cell_type": "code",
      "metadata": {
        "id": "fleVCEQXJPgC",
        "colab": {
          "base_uri": "https://localhost:8080/"
        },
        "outputId": "33d42c59-cf39-43e6-f403-fd8384e623a3"
      },
      "source": [
        "actual_vacancy = get_actual_vacancy(data, user_data)"
      ],
      "execution_count": 36,
      "outputs": [
        {
          "output_type": "stream",
          "text": [
            "/usr/local/lib/python3.7/dist-packages/scipy/spatial/distance.py:720: RuntimeWarning: invalid value encountered in double_scalars\n",
            "  dist = 1.0 - uv / np.sqrt(uu * vv)\n"
          ],
          "name": "stderr"
        }
      ]
    },
    {
      "cell_type": "markdown",
      "metadata": {
        "id": "rGlsRy-A4cWw"
      },
      "source": [
        "Показываем пользователю вакансии"
      ]
    },
    {
      "cell_type": "code",
      "metadata": {
        "id": "x9dvrpaZJPkD",
        "colab": {
          "base_uri": "https://localhost:8080/",
          "height": 205
        },
        "outputId": "da62f122-58af-430a-a56d-575bad0efbbf"
      },
      "source": [
        "actual_vacancy"
      ],
      "execution_count": 37,
      "outputs": [
        {
          "output_type": "execute_result",
          "data": {
            "text/html": [
              "<div>\n",
              "<style scoped>\n",
              "    .dataframe tbody tr th:only-of-type {\n",
              "        vertical-align: middle;\n",
              "    }\n",
              "\n",
              "    .dataframe tbody tr th {\n",
              "        vertical-align: top;\n",
              "    }\n",
              "\n",
              "    .dataframe thead th {\n",
              "        text-align: right;\n",
              "    }\n",
              "</style>\n",
              "<table border=\"1\" class=\"dataframe\">\n",
              "  <thead>\n",
              "    <tr style=\"text-align: right;\">\n",
              "      <th></th>\n",
              "      <th>id</th>\n",
              "      <th>name</th>\n",
              "      <th>salary</th>\n",
              "      <th>published_at</th>\n",
              "      <th>experience</th>\n",
              "      <th>key_skills</th>\n",
              "    </tr>\n",
              "  </thead>\n",
              "  <tbody>\n",
              "    <tr>\n",
              "      <th>1</th>\n",
              "      <td>44872776</td>\n",
              "      <td>Junior Data Scientist</td>\n",
              "      <td>50000.0</td>\n",
              "      <td>2021-05-25 11:10:42</td>\n",
              "      <td>notSpecified</td>\n",
              "      <td>[PANDAS, PYTHON, SQL]</td>\n",
              "    </tr>\n",
              "    <tr>\n",
              "      <th>23</th>\n",
              "      <td>44413603</td>\n",
              "      <td>Ведущий аналитик (Data Science)</td>\n",
              "      <td>NaN</td>\n",
              "      <td>2021-05-26 12:50:19</td>\n",
              "      <td>notSpecified</td>\n",
              "      <td>[ERP, PANDAS, PYTHON]</td>\n",
              "    </tr>\n",
              "    <tr>\n",
              "      <th>266</th>\n",
              "      <td>38795381</td>\n",
              "      <td>Преподаватель курса по направлению Data Science</td>\n",
              "      <td>NaN</td>\n",
              "      <td>2021-05-12 08:38:50</td>\n",
              "      <td>noExperience</td>\n",
              "      <td>[PYTHON]</td>\n",
              "    </tr>\n",
              "    <tr>\n",
              "      <th>379</th>\n",
              "      <td>43505794</td>\n",
              "      <td>Python developer with Big Data (office/remote)</td>\n",
              "      <td>NaN</td>\n",
              "      <td>2021-04-28 14:28:56</td>\n",
              "      <td>between3And6</td>\n",
              "      <td>[PYTHON]</td>\n",
              "    </tr>\n",
              "    <tr>\n",
              "      <th>387</th>\n",
              "      <td>44364228</td>\n",
              "      <td>Senior Data Engineer OR Machine Learning</td>\n",
              "      <td>NaN</td>\n",
              "      <td>2021-05-04 12:18:38</td>\n",
              "      <td>noExperience</td>\n",
              "      <td>[PYTHON, TENSORFLOW, KERAS, АНГЛИЙСКИЙ ЯЗЫК]</td>\n",
              "    </tr>\n",
              "  </tbody>\n",
              "</table>\n",
              "</div>"
            ],
            "text/plain": [
              "           id  ...                                    key_skills\n",
              "1    44872776  ...                         [PANDAS, PYTHON, SQL]\n",
              "23   44413603  ...                         [ERP, PANDAS, PYTHON]\n",
              "266  38795381  ...                                      [PYTHON]\n",
              "379  43505794  ...                                      [PYTHON]\n",
              "387  44364228  ...  [PYTHON, TENSORFLOW, KERAS, АНГЛИЙСКИЙ ЯЗЫК]\n",
              "\n",
              "[5 rows x 6 columns]"
            ]
          },
          "metadata": {
            "tags": []
          },
          "execution_count": 37
        }
      ]
    },
    {
      "cell_type": "markdown",
      "metadata": {
        "id": "1sAqefVK4jA5"
      },
      "source": [
        "По каждой вакансии есть возможность посмотреть какие курсы можно пройти, чтобы еще лучше ей соответствовать.  \n",
        "Для этого также парсим образовательные платформы по навыкам пользователя + недостающим навыкам из вакансии.  \n",
        "\n",
        "Можно добавить возможность дооценить недостающие навыки, если у пользователя они есть, но ранее он их не указал."
      ]
    },
    {
      "cell_type": "code",
      "metadata": {
        "id": "gHjD9x1Tk_5d"
      },
      "source": [
        "update_skills = user_data['skills']\n",
        "for skill in actual_vacancy.key_skills[1]:\n",
        "    if skill not in update_skills:\n",
        "        update_skills[skill] = 0"
      ],
      "execution_count": 38,
      "outputs": []
    },
    {
      "cell_type": "code",
      "metadata": {
        "id": "rITDABZ8k_7s",
        "colab": {
          "base_uri": "https://localhost:8080/"
        },
        "outputId": "9774eddb-006c-463e-9aa2-3b86e18409bf"
      },
      "source": [
        "update_skills"
      ],
      "execution_count": 39,
      "outputs": [
        {
          "output_type": "execute_result",
          "data": {
            "text/plain": [
              "{'CATBOOST': 1, 'PANDAS': 2, 'PYTHON': 2, 'SQL': 0, 'TENSORFLOW': 1}"
            ]
          },
          "metadata": {
            "tags": []
          },
          "execution_count": 39
        }
      ]
    },
    {
      "cell_type": "markdown",
      "metadata": {
        "id": "3bUAr93l6gpF"
      },
      "source": [
        "Нетология"
      ]
    },
    {
      "cell_type": "code",
      "metadata": {
        "id": "aAiB_FRS6XHQ"
      },
      "source": [
        "all_courses = {}\n",
        "for skill, level in update_skills.items():\n",
        "    courses = find_netology_courses(skill, level=level)\n",
        "    all_courses[skill] = courses"
      ],
      "execution_count": 40,
      "outputs": []
    },
    {
      "cell_type": "code",
      "metadata": {
        "colab": {
          "base_uri": "https://localhost:8080/",
          "height": 153
        },
        "id": "CGqqyl_966ss",
        "outputId": "f97f6ff3-22d4-46e4-e0b3-c75f9b366e50"
      },
      "source": [
        "all_courses['PYTHON']"
      ],
      "execution_count": 41,
      "outputs": [
        {
          "output_type": "execute_result",
          "data": {
            "text/html": [
              "<div>\n",
              "<style scoped>\n",
              "    .dataframe tbody tr th:only-of-type {\n",
              "        vertical-align: middle;\n",
              "    }\n",
              "\n",
              "    .dataframe tbody tr th {\n",
              "        vertical-align: top;\n",
              "    }\n",
              "\n",
              "    .dataframe thead th {\n",
              "        text-align: right;\n",
              "    }\n",
              "</style>\n",
              "<table border=\"1\" class=\"dataframe\">\n",
              "  <thead>\n",
              "    <tr style=\"text-align: right;\">\n",
              "      <th></th>\n",
              "      <th>id</th>\n",
              "      <th>type</th>\n",
              "      <th>program_type</th>\n",
              "      <th>label</th>\n",
              "      <th>name</th>\n",
              "      <th>url</th>\n",
              "      <th>duration</th>\n",
              "      <th>projects_amount</th>\n",
              "      <th>experts_amount</th>\n",
              "      <th>starts_at</th>\n",
              "      <th>date</th>\n",
              "      <th>program_image</th>\n",
              "      <th>color</th>\n",
              "      <th>slider_description</th>\n",
              "      <th>url_to_replace</th>\n",
              "      <th>landing_url</th>\n",
              "      <th>tags</th>\n",
              "      <th>navigational_tag_ids</th>\n",
              "      <th>program_family_id</th>\n",
              "      <th>program_type_id</th>\n",
              "      <th>program_type_alias</th>\n",
              "      <th>is_async</th>\n",
              "      <th>initial_price</th>\n",
              "      <th>current_price</th>\n",
              "      <th>program_family_image</th>\n",
              "      <th>educational_level</th>\n",
              "      <th>starting_soon</th>\n",
              "      <th>main_direction</th>\n",
              "      <th>directions</th>\n",
              "      <th>partner_logo</th>\n",
              "      <th>price_type</th>\n",
              "      <th>description</th>\n",
              "    </tr>\n",
              "  </thead>\n",
              "  <tbody>\n",
              "    <tr>\n",
              "      <th>0</th>\n",
              "      <td>21376</td>\n",
              "      <td>online</td>\n",
              "      <td>specialization</td>\n",
              "      <td>Осталось 24 дня</td>\n",
              "      <td>DevOps-инженер</td>\n",
              "      <td>//netology.ru/programs/devops</td>\n",
              "      <td>11 месяцев</td>\n",
              "      <td>23 занятия</td>\n",
              "      <td>0 экспертов</td>\n",
              "      <td>8 июля</td>\n",
              "      <td>2021-07-08</td>\n",
              "      <td></td>\n",
              "      <td>#F6BD94</td>\n",
              "      <td></td>\n",
              "      <td></td>\n",
              "      <td></td>\n",
              "      <td>[]</td>\n",
              "      <td>[]</td>\n",
              "      <td>1209</td>\n",
              "      <td>4</td>\n",
              "      <td>specialization</td>\n",
              "      <td>False</td>\n",
              "      <td>87900</td>\n",
              "      <td>70740</td>\n",
              "      <td>{'url': 'https://u.netology.ngcdn.ru/backend/u...</td>\n",
              "      <td>{'id': 2, 'name': 'Про', 'slug': 'pro'}</td>\n",
              "      <td>False</td>\n",
              "      <td>{'slug': 'development', 'name': 'Программирова...</td>\n",
              "      <td>[{'slug': 'development', 'name': 'Программиров...</td>\n",
              "      <td></td>\n",
              "      <td>paid</td>\n",
              "      <td>&lt;p&gt;- Освойте одну из самых востребованных IT-п...</td>\n",
              "    </tr>\n",
              "  </tbody>\n",
              "</table>\n",
              "</div>"
            ],
            "text/plain": [
              "      id    type  ... price_type                                        description\n",
              "0  21376  online  ...       paid  <p>- Освойте одну из самых востребованных IT-п...\n",
              "\n",
              "[1 rows x 32 columns]"
            ]
          },
          "metadata": {
            "tags": []
          },
          "execution_count": 41
        }
      ]
    },
    {
      "cell_type": "markdown",
      "metadata": {
        "id": "185YvGx-6iNp"
      },
      "source": [
        "Coursera"
      ]
    },
    {
      "cell_type": "code",
      "metadata": {
        "colab": {
          "base_uri": "https://localhost:8080/"
        },
        "id": "WASTGz1e6fI_",
        "outputId": "47112ff8-f7e2-44d7-e506-82d4a57ed281"
      },
      "source": [
        "all_courses = {}\n",
        "for skill, level in update_skills.items():\n",
        "    courses = find_coursera_courses(driver, skill, page=1, level=level)\n",
        "    all_courses[skill] = courses"
      ],
      "execution_count": 42,
      "outputs": [
        {
          "output_type": "stream",
          "text": [
            "Found 10 courses\n",
            "Found 21 courses\n",
            "Found 10 courses\n",
            "Found 10 courses\n",
            "Found 10 courses\n"
          ],
          "name": "stdout"
        }
      ]
    },
    {
      "cell_type": "code",
      "metadata": {
        "colab": {
          "base_uri": "https://localhost:8080/",
          "height": 362
        },
        "id": "L3tw9pmi7Ato",
        "outputId": "e12cdb94-4635-4b84-ed8e-07c1fcf86848"
      },
      "source": [
        "all_courses['PANDAS']"
      ],
      "execution_count": 43,
      "outputs": [
        {
          "output_type": "execute_result",
          "data": {
            "text/html": [
              "<div>\n",
              "<style scoped>\n",
              "    .dataframe tbody tr th:only-of-type {\n",
              "        vertical-align: middle;\n",
              "    }\n",
              "\n",
              "    .dataframe tbody tr th {\n",
              "        vertical-align: top;\n",
              "    }\n",
              "\n",
              "    .dataframe thead th {\n",
              "        text-align: right;\n",
              "    }\n",
              "</style>\n",
              "<table border=\"1\" class=\"dataframe\">\n",
              "  <thead>\n",
              "    <tr style=\"text-align: right;\">\n",
              "      <th></th>\n",
              "      <th>title</th>\n",
              "      <th>difficulty</th>\n",
              "      <th>rate</th>\n",
              "      <th>author</th>\n",
              "      <th>link</th>\n",
              "    </tr>\n",
              "  </thead>\n",
              "  <tbody>\n",
              "    <tr>\n",
              "      <th>0</th>\n",
              "      <td>Applied Data Science with Python</td>\n",
              "      <td>Intermediate</td>\n",
              "      <td>4.5</td>\n",
              "      <td>University of Michigan</td>\n",
              "      <td>https://ru.coursera.org/specializations/data-s...</td>\n",
              "    </tr>\n",
              "    <tr>\n",
              "      <th>1</th>\n",
              "      <td>IBM Data Analyst</td>\n",
              "      <td>Beginner</td>\n",
              "      <td>4.6</td>\n",
              "      <td>IBM</td>\n",
              "      <td>https://ru.coursera.org/professional-certifica...</td>\n",
              "    </tr>\n",
              "    <tr>\n",
              "      <th>2</th>\n",
              "      <td>Python for Data Analysis: Pandas &amp; NumPy</td>\n",
              "      <td>Beginner</td>\n",
              "      <td>4.2</td>\n",
              "      <td>Coursera Project Network</td>\n",
              "      <td>https://ru.coursera.org/projects/python-for-da...</td>\n",
              "    </tr>\n",
              "    <tr>\n",
              "      <th>3</th>\n",
              "      <td>Exploratory Data Analysis With Python and Pandas</td>\n",
              "      <td>Beginner</td>\n",
              "      <td>4.6</td>\n",
              "      <td>Coursera Project Network</td>\n",
              "      <td>https://ru.coursera.org/projects/exploratory-d...</td>\n",
              "    </tr>\n",
              "    <tr>\n",
              "      <th>4</th>\n",
              "      <td>Introduction to Data Science in Python</td>\n",
              "      <td>Intermediate</td>\n",
              "      <td>4.5</td>\n",
              "      <td>University of Michigan</td>\n",
              "      <td>https://ru.coursera.org/learn/python-data-anal...</td>\n",
              "    </tr>\n",
              "    <tr>\n",
              "      <th>5</th>\n",
              "      <td>Applied Data Science</td>\n",
              "      <td>Beginner</td>\n",
              "      <td>4.6</td>\n",
              "      <td>IBM</td>\n",
              "      <td>https://ru.coursera.org/specializations/applie...</td>\n",
              "    </tr>\n",
              "    <tr>\n",
              "      <th>6</th>\n",
              "      <td>Data Analysis with Python</td>\n",
              "      <td>Beginner</td>\n",
              "      <td>4.7</td>\n",
              "      <td>IBM</td>\n",
              "      <td>https://ru.coursera.org/learn/data-analysis-wi...</td>\n",
              "    </tr>\n",
              "    <tr>\n",
              "      <th>7</th>\n",
              "      <td>COVID19 Data Analysis Using Python</td>\n",
              "      <td>Intermediate</td>\n",
              "      <td>4.6</td>\n",
              "      <td>Coursera Project Network</td>\n",
              "      <td>https://ru.coursera.org/projects/covid19-data-...</td>\n",
              "    </tr>\n",
              "    <tr>\n",
              "      <th>8</th>\n",
              "      <td>Data Analysis Using Python</td>\n",
              "      <td>Beginner</td>\n",
              "      <td>4.5</td>\n",
              "      <td>University of Pennsylvania</td>\n",
              "      <td>https://ru.coursera.org/learn/data-analysis-py...</td>\n",
              "    </tr>\n",
              "    <tr>\n",
              "      <th>9</th>\n",
              "      <td>Python Pandas Basics: Load and Export Data</td>\n",
              "      <td>Beginner</td>\n",
              "      <td>4.4</td>\n",
              "      <td>Coursera Project Network</td>\n",
              "      <td>https://ru.coursera.org/projects/python-pandas...</td>\n",
              "    </tr>\n",
              "  </tbody>\n",
              "</table>\n",
              "</div>"
            ],
            "text/plain": [
              "                                              title  ...                                               link\n",
              "0                  Applied Data Science with Python  ...  https://ru.coursera.org/specializations/data-s...\n",
              "1                                  IBM Data Analyst  ...  https://ru.coursera.org/professional-certifica...\n",
              "2          Python for Data Analysis: Pandas & NumPy  ...  https://ru.coursera.org/projects/python-for-da...\n",
              "3  Exploratory Data Analysis With Python and Pandas  ...  https://ru.coursera.org/projects/exploratory-d...\n",
              "4            Introduction to Data Science in Python  ...  https://ru.coursera.org/learn/python-data-anal...\n",
              "5                              Applied Data Science  ...  https://ru.coursera.org/specializations/applie...\n",
              "6                         Data Analysis with Python  ...  https://ru.coursera.org/learn/data-analysis-wi...\n",
              "7                COVID19 Data Analysis Using Python  ...  https://ru.coursera.org/projects/covid19-data-...\n",
              "8                        Data Analysis Using Python  ...  https://ru.coursera.org/learn/data-analysis-py...\n",
              "9        Python Pandas Basics: Load and Export Data  ...  https://ru.coursera.org/projects/python-pandas...\n",
              "\n",
              "[10 rows x 5 columns]"
            ]
          },
          "metadata": {
            "tags": []
          },
          "execution_count": 43
        }
      ]
    }
  ]
}